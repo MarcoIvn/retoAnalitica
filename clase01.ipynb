{
 "cells": [
  {
   "cell_type": "code",
   "execution_count": 54,
   "id": "128442c5",
   "metadata": {},
   "outputs": [],
   "source": [
    "def primeNumbers(N):\n",
    "    primes = []\n",
    "    for i in range(2, N+1):\n",
    "        isPrime = True\n",
    "        for j in range(2,i):\n",
    "            if i % j == 0:\n",
    "                isPrime = False\n",
    "                break;\n",
    "        if isPrime:\n",
    "            primes.append(i)\n",
    "    return primes"
   ]
  },
  {
   "cell_type": "code",
   "execution_count": 55,
   "id": "0561b0a5",
   "metadata": {
    "scrolled": true
   },
   "outputs": [
    {
     "name": "stdout",
     "output_type": "stream",
     "text": [
      "[2, 3, 5, 7, 11, 13]\n"
     ]
    }
   ],
   "source": [
    "primes = primeNumbers(15)\n",
    "print(primes)"
   ]
  },
  {
   "cell_type": "code",
   "execution_count": 56,
   "id": "ec507f1e",
   "metadata": {},
   "outputs": [],
   "source": [
    "def crossProduct(a,b):\n",
    "    #a = (ax,au,az)\n",
    "    #b = (bx,by,bz)\n",
    "    product = [a[1]*b[2] - a[2]*b[1], a[2]*b[0] - a[0]*b[2], a[0] * b[1] + a[1] * b[0]]\n",
    "    return product"
   ]
  },
  {
   "cell_type": "code",
   "execution_count": 57,
   "id": "dc37991c",
   "metadata": {},
   "outputs": [
    {
     "name": "stdout",
     "output_type": "stream",
     "text": [
      "[-3, 6, 13]\n"
     ]
    }
   ],
   "source": [
    "vectorA = [1,2,3]\n",
    "vectorB = [4,5,6]\n",
    "productoCruz = crossProduct(vectorA,vectorB)\n",
    "print(productoCruz)"
   ]
  },
  {
   "cell_type": "code",
   "execution_count": 63,
   "id": "91fff8cd",
   "metadata": {},
   "outputs": [],
   "source": [
    "def crossProductB():\n",
    "    file = open(\"vectors.txt\", \"r\")\n",
    "    linea1 = file.readline().strip()\n",
    "    linea2 = file.readline().strip()\n",
    "    file.close()\n",
    "    vector1 = linea1.split(\",\")\n",
    "    vector2 = linea2.split(\",\")\n",
    "    for i in range(3):\n",
    "        vector1[i] = float(vector1[i])\n",
    "        vector2[i] = float(vector2[i])\n",
    "    print(vector1)\n",
    "    print(vector2)\n",
    "    product = crossProduct(vector1,vector2)\n",
    "    return product"
   ]
  },
  {
   "cell_type": "code",
   "execution_count": 64,
   "id": "5a96a4d8",
   "metadata": {},
   "outputs": [
    {
     "name": "stdout",
     "output_type": "stream",
     "text": [
      "[13.45, 20.67, -15.0821]\n",
      "[-5.012, -40.333, 12.874]\n",
      "[-342.20075929999996, -97.56381480000002, -646.0768899999999]\n"
     ]
    }
   ],
   "source": [
    "product = crossProductB()\n",
    "print(product)"
   ]
  },
  {
   "cell_type": "code",
   "execution_count": null,
   "id": "8c336a55",
   "metadata": {},
   "outputs": [],
   "source": []
  }
 ],
 "metadata": {
  "kernelspec": {
   "display_name": "Python 3 (ipykernel)",
   "language": "python",
   "name": "python3"
  },
  "language_info": {
   "codemirror_mode": {
    "name": "ipython",
    "version": 3
   },
   "file_extension": ".py",
   "mimetype": "text/x-python",
   "name": "python",
   "nbconvert_exporter": "python",
   "pygments_lexer": "ipython3",
   "version": "3.9.16"
  }
 },
 "nbformat": 4,
 "nbformat_minor": 5
}
