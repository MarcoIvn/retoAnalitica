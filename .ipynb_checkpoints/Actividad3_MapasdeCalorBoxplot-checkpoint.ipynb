{
 "cells": [
  {
   "cell_type": "markdown",
   "id": "e0e48afb",
   "metadata": {},
   "source": [
    "# Cargar datos con Pandas\n",
    "Marco Iván Pacheco Martínez A01662421"
   ]
  },
  {
   "cell_type": "code",
   "execution_count": 2,
   "id": "bbe02962",
   "metadata": {},
   "outputs": [
    {
     "name": "stdout",
     "output_type": "stream",
     "text": [
      "c:\\Users\\HP\\anaconda3\\envs\\TC2001S\\AnaliticaTC1002S\\retoAnalitica\n"
     ]
    }
   ],
   "source": [
    "import os\n",
    "print(os.getcwd())"
   ]
  },
  {
   "cell_type": "code",
   "execution_count": 3,
   "id": "8e845d3c",
   "metadata": {},
   "outputs": [
    {
     "data": {
      "text/plain": [
       "'c:\\\\Users\\\\HP\\\\anaconda3\\\\envs\\\\TC2001S\\\\AnaliticaTC1002S\\\\retoAnalitica'"
      ]
     },
     "execution_count": 3,
     "metadata": {},
     "output_type": "execute_result"
    }
   ],
   "source": [
    "import pandas as pd\n",
    "import os\n",
    "import matplotlib.pyplot as plt\n",
    "import numpy as np\n",
    "import seaborn as sns\n",
    "os.getcwd()"
   ]
  },
  {
   "cell_type": "code",
   "execution_count": 4,
   "id": "0af38ac5",
   "metadata": {},
   "outputs": [],
   "source": [
    "df = pd.read_csv(\"avocado.csv\")"
   ]
  },
  {
   "cell_type": "code",
   "execution_count": 5,
   "id": "45947893",
   "metadata": {},
   "outputs": [
    {
     "data": {
      "text/html": [
       "<div>\n",
       "<style scoped>\n",
       "    .dataframe tbody tr th:only-of-type {\n",
       "        vertical-align: middle;\n",
       "    }\n",
       "\n",
       "    .dataframe tbody tr th {\n",
       "        vertical-align: top;\n",
       "    }\n",
       "\n",
       "    .dataframe thead th {\n",
       "        text-align: right;\n",
       "    }\n",
       "</style>\n",
       "<table border=\"1\" class=\"dataframe\">\n",
       "  <thead>\n",
       "    <tr style=\"text-align: right;\">\n",
       "      <th></th>\n",
       "      <th>Unnamed: 0</th>\n",
       "      <th>Date</th>\n",
       "      <th>AveragePrice</th>\n",
       "      <th>Total Volume</th>\n",
       "      <th>4046</th>\n",
       "      <th>4225</th>\n",
       "      <th>4770</th>\n",
       "      <th>Total Bags</th>\n",
       "      <th>Small Bags</th>\n",
       "      <th>Large Bags</th>\n",
       "      <th>XLarge Bags</th>\n",
       "      <th>type</th>\n",
       "      <th>year</th>\n",
       "      <th>region</th>\n",
       "    </tr>\n",
       "  </thead>\n",
       "  <tbody>\n",
       "    <tr>\n",
       "      <th>0</th>\n",
       "      <td>0</td>\n",
       "      <td>2015-12-27</td>\n",
       "      <td>1.33</td>\n",
       "      <td>64236.62</td>\n",
       "      <td>1036.74</td>\n",
       "      <td>54454.85</td>\n",
       "      <td>48.16</td>\n",
       "      <td>8696.87</td>\n",
       "      <td>8603.62</td>\n",
       "      <td>93.25</td>\n",
       "      <td>0.0</td>\n",
       "      <td>conventional</td>\n",
       "      <td>2015</td>\n",
       "      <td>Albany</td>\n",
       "    </tr>\n",
       "    <tr>\n",
       "      <th>1</th>\n",
       "      <td>1</td>\n",
       "      <td>2015-12-20</td>\n",
       "      <td>1.35</td>\n",
       "      <td>54876.98</td>\n",
       "      <td>674.28</td>\n",
       "      <td>44638.81</td>\n",
       "      <td>58.33</td>\n",
       "      <td>9505.56</td>\n",
       "      <td>9408.07</td>\n",
       "      <td>97.49</td>\n",
       "      <td>0.0</td>\n",
       "      <td>conventional</td>\n",
       "      <td>2015</td>\n",
       "      <td>Albany</td>\n",
       "    </tr>\n",
       "    <tr>\n",
       "      <th>2</th>\n",
       "      <td>2</td>\n",
       "      <td>2015-12-13</td>\n",
       "      <td>0.93</td>\n",
       "      <td>118220.22</td>\n",
       "      <td>794.70</td>\n",
       "      <td>109149.67</td>\n",
       "      <td>130.50</td>\n",
       "      <td>8145.35</td>\n",
       "      <td>8042.21</td>\n",
       "      <td>103.14</td>\n",
       "      <td>0.0</td>\n",
       "      <td>conventional</td>\n",
       "      <td>2015</td>\n",
       "      <td>Albany</td>\n",
       "    </tr>\n",
       "    <tr>\n",
       "      <th>3</th>\n",
       "      <td>3</td>\n",
       "      <td>2015-12-06</td>\n",
       "      <td>1.08</td>\n",
       "      <td>78992.15</td>\n",
       "      <td>1132.00</td>\n",
       "      <td>71976.41</td>\n",
       "      <td>72.58</td>\n",
       "      <td>5811.16</td>\n",
       "      <td>5677.40</td>\n",
       "      <td>133.76</td>\n",
       "      <td>0.0</td>\n",
       "      <td>conventional</td>\n",
       "      <td>2015</td>\n",
       "      <td>Albany</td>\n",
       "    </tr>\n",
       "    <tr>\n",
       "      <th>4</th>\n",
       "      <td>4</td>\n",
       "      <td>2015-11-29</td>\n",
       "      <td>1.28</td>\n",
       "      <td>51039.60</td>\n",
       "      <td>941.48</td>\n",
       "      <td>43838.39</td>\n",
       "      <td>75.78</td>\n",
       "      <td>6183.95</td>\n",
       "      <td>5986.26</td>\n",
       "      <td>197.69</td>\n",
       "      <td>0.0</td>\n",
       "      <td>conventional</td>\n",
       "      <td>2015</td>\n",
       "      <td>Albany</td>\n",
       "    </tr>\n",
       "  </tbody>\n",
       "</table>\n",
       "</div>"
      ],
      "text/plain": [
       "   Unnamed: 0        Date  AveragePrice  Total Volume     4046       4225  \\\n",
       "0           0  2015-12-27          1.33      64236.62  1036.74   54454.85   \n",
       "1           1  2015-12-20          1.35      54876.98   674.28   44638.81   \n",
       "2           2  2015-12-13          0.93     118220.22   794.70  109149.67   \n",
       "3           3  2015-12-06          1.08      78992.15  1132.00   71976.41   \n",
       "4           4  2015-11-29          1.28      51039.60   941.48   43838.39   \n",
       "\n",
       "     4770  Total Bags  Small Bags  Large Bags  XLarge Bags          type  \\\n",
       "0   48.16     8696.87     8603.62       93.25          0.0  conventional   \n",
       "1   58.33     9505.56     9408.07       97.49          0.0  conventional   \n",
       "2  130.50     8145.35     8042.21      103.14          0.0  conventional   \n",
       "3   72.58     5811.16     5677.40      133.76          0.0  conventional   \n",
       "4   75.78     6183.95     5986.26      197.69          0.0  conventional   \n",
       "\n",
       "   year  region  \n",
       "0  2015  Albany  \n",
       "1  2015  Albany  \n",
       "2  2015  Albany  \n",
       "3  2015  Albany  \n",
       "4  2015  Albany  "
      ]
     },
     "execution_count": 5,
     "metadata": {},
     "output_type": "execute_result"
    }
   ],
   "source": [
    "df.head()"
   ]
  },
  {
   "cell_type": "code",
   "execution_count": 6,
   "id": "9ae95a27",
   "metadata": {},
   "outputs": [
    {
     "data": {
      "text/html": [
       "<div>\n",
       "<style scoped>\n",
       "    .dataframe tbody tr th:only-of-type {\n",
       "        vertical-align: middle;\n",
       "    }\n",
       "\n",
       "    .dataframe tbody tr th {\n",
       "        vertical-align: top;\n",
       "    }\n",
       "\n",
       "    .dataframe thead th {\n",
       "        text-align: right;\n",
       "    }\n",
       "</style>\n",
       "<table border=\"1\" class=\"dataframe\">\n",
       "  <thead>\n",
       "    <tr style=\"text-align: right;\">\n",
       "      <th></th>\n",
       "      <th>Unnamed: 0</th>\n",
       "      <th>Date</th>\n",
       "      <th>AveragePrice</th>\n",
       "      <th>Total Volume</th>\n",
       "      <th>4046</th>\n",
       "      <th>4225</th>\n",
       "      <th>4770</th>\n",
       "      <th>Total Bags</th>\n",
       "      <th>Small Bags</th>\n",
       "      <th>Large Bags</th>\n",
       "      <th>XLarge Bags</th>\n",
       "      <th>type</th>\n",
       "      <th>year</th>\n",
       "      <th>region</th>\n",
       "    </tr>\n",
       "  </thead>\n",
       "  <tbody>\n",
       "    <tr>\n",
       "      <th>18244</th>\n",
       "      <td>7</td>\n",
       "      <td>2018-02-04</td>\n",
       "      <td>1.63</td>\n",
       "      <td>17074.83</td>\n",
       "      <td>2046.96</td>\n",
       "      <td>1529.20</td>\n",
       "      <td>0.00</td>\n",
       "      <td>13498.67</td>\n",
       "      <td>13066.82</td>\n",
       "      <td>431.85</td>\n",
       "      <td>0.0</td>\n",
       "      <td>organic</td>\n",
       "      <td>2018</td>\n",
       "      <td>WestTexNewMexico</td>\n",
       "    </tr>\n",
       "    <tr>\n",
       "      <th>18245</th>\n",
       "      <td>8</td>\n",
       "      <td>2018-01-28</td>\n",
       "      <td>1.71</td>\n",
       "      <td>13888.04</td>\n",
       "      <td>1191.70</td>\n",
       "      <td>3431.50</td>\n",
       "      <td>0.00</td>\n",
       "      <td>9264.84</td>\n",
       "      <td>8940.04</td>\n",
       "      <td>324.80</td>\n",
       "      <td>0.0</td>\n",
       "      <td>organic</td>\n",
       "      <td>2018</td>\n",
       "      <td>WestTexNewMexico</td>\n",
       "    </tr>\n",
       "    <tr>\n",
       "      <th>18246</th>\n",
       "      <td>9</td>\n",
       "      <td>2018-01-21</td>\n",
       "      <td>1.87</td>\n",
       "      <td>13766.76</td>\n",
       "      <td>1191.92</td>\n",
       "      <td>2452.79</td>\n",
       "      <td>727.94</td>\n",
       "      <td>9394.11</td>\n",
       "      <td>9351.80</td>\n",
       "      <td>42.31</td>\n",
       "      <td>0.0</td>\n",
       "      <td>organic</td>\n",
       "      <td>2018</td>\n",
       "      <td>WestTexNewMexico</td>\n",
       "    </tr>\n",
       "    <tr>\n",
       "      <th>18247</th>\n",
       "      <td>10</td>\n",
       "      <td>2018-01-14</td>\n",
       "      <td>1.93</td>\n",
       "      <td>16205.22</td>\n",
       "      <td>1527.63</td>\n",
       "      <td>2981.04</td>\n",
       "      <td>727.01</td>\n",
       "      <td>10969.54</td>\n",
       "      <td>10919.54</td>\n",
       "      <td>50.00</td>\n",
       "      <td>0.0</td>\n",
       "      <td>organic</td>\n",
       "      <td>2018</td>\n",
       "      <td>WestTexNewMexico</td>\n",
       "    </tr>\n",
       "    <tr>\n",
       "      <th>18248</th>\n",
       "      <td>11</td>\n",
       "      <td>2018-01-07</td>\n",
       "      <td>1.62</td>\n",
       "      <td>17489.58</td>\n",
       "      <td>2894.77</td>\n",
       "      <td>2356.13</td>\n",
       "      <td>224.53</td>\n",
       "      <td>12014.15</td>\n",
       "      <td>11988.14</td>\n",
       "      <td>26.01</td>\n",
       "      <td>0.0</td>\n",
       "      <td>organic</td>\n",
       "      <td>2018</td>\n",
       "      <td>WestTexNewMexico</td>\n",
       "    </tr>\n",
       "  </tbody>\n",
       "</table>\n",
       "</div>"
      ],
      "text/plain": [
       "       Unnamed: 0        Date  AveragePrice  Total Volume     4046     4225  \\\n",
       "18244           7  2018-02-04          1.63      17074.83  2046.96  1529.20   \n",
       "18245           8  2018-01-28          1.71      13888.04  1191.70  3431.50   \n",
       "18246           9  2018-01-21          1.87      13766.76  1191.92  2452.79   \n",
       "18247          10  2018-01-14          1.93      16205.22  1527.63  2981.04   \n",
       "18248          11  2018-01-07          1.62      17489.58  2894.77  2356.13   \n",
       "\n",
       "         4770  Total Bags  Small Bags  Large Bags  XLarge Bags     type  year  \\\n",
       "18244    0.00    13498.67    13066.82      431.85          0.0  organic  2018   \n",
       "18245    0.00     9264.84     8940.04      324.80          0.0  organic  2018   \n",
       "18246  727.94     9394.11     9351.80       42.31          0.0  organic  2018   \n",
       "18247  727.01    10969.54    10919.54       50.00          0.0  organic  2018   \n",
       "18248  224.53    12014.15    11988.14       26.01          0.0  organic  2018   \n",
       "\n",
       "                 region  \n",
       "18244  WestTexNewMexico  \n",
       "18245  WestTexNewMexico  \n",
       "18246  WestTexNewMexico  \n",
       "18247  WestTexNewMexico  \n",
       "18248  WestTexNewMexico  "
      ]
     },
     "execution_count": 6,
     "metadata": {},
     "output_type": "execute_result"
    }
   ],
   "source": [
    "df.tail()"
   ]
  },
  {
   "cell_type": "code",
   "execution_count": 7,
   "id": "0ef60590",
   "metadata": {},
   "outputs": [
    {
     "data": {
      "text/plain": [
       "RangeIndex(start=0, stop=18249, step=1)"
      ]
     },
     "execution_count": 7,
     "metadata": {},
     "output_type": "execute_result"
    }
   ],
   "source": [
    "df.index"
   ]
  },
  {
   "cell_type": "code",
   "execution_count": 8,
   "id": "3d2411d5",
   "metadata": {},
   "outputs": [
    {
     "data": {
      "text/plain": [
       "Index(['Unnamed: 0', 'Date', 'AveragePrice', 'Total Volume', '4046', '4225',\n",
       "       '4770', 'Total Bags', 'Small Bags', 'Large Bags', 'XLarge Bags', 'type',\n",
       "       'year', 'region'],\n",
       "      dtype='object')"
      ]
     },
     "execution_count": 8,
     "metadata": {},
     "output_type": "execute_result"
    }
   ],
   "source": [
    "df.columns"
   ]
  },
  {
   "cell_type": "code",
   "execution_count": 9,
   "id": "1d9b0506",
   "metadata": {},
   "outputs": [
    {
     "data": {
      "text/html": [
       "<div>\n",
       "<style scoped>\n",
       "    .dataframe tbody tr th:only-of-type {\n",
       "        vertical-align: middle;\n",
       "    }\n",
       "\n",
       "    .dataframe tbody tr th {\n",
       "        vertical-align: top;\n",
       "    }\n",
       "\n",
       "    .dataframe thead th {\n",
       "        text-align: right;\n",
       "    }\n",
       "</style>\n",
       "<table border=\"1\" class=\"dataframe\">\n",
       "  <thead>\n",
       "    <tr style=\"text-align: right;\">\n",
       "      <th></th>\n",
       "      <th>4046</th>\n",
       "      <th>4225</th>\n",
       "      <th>4770</th>\n",
       "      <th>AveragePrice</th>\n",
       "      <th>Date</th>\n",
       "      <th>Large Bags</th>\n",
       "      <th>Small Bags</th>\n",
       "      <th>Total Bags</th>\n",
       "      <th>Total Volume</th>\n",
       "      <th>Unnamed: 0</th>\n",
       "      <th>XLarge Bags</th>\n",
       "      <th>region</th>\n",
       "      <th>type</th>\n",
       "      <th>year</th>\n",
       "    </tr>\n",
       "  </thead>\n",
       "  <tbody>\n",
       "    <tr>\n",
       "      <th>0</th>\n",
       "      <td>1036.74</td>\n",
       "      <td>54454.85</td>\n",
       "      <td>48.16</td>\n",
       "      <td>1.33</td>\n",
       "      <td>2015-12-27</td>\n",
       "      <td>93.25</td>\n",
       "      <td>8603.62</td>\n",
       "      <td>8696.87</td>\n",
       "      <td>64236.62</td>\n",
       "      <td>0</td>\n",
       "      <td>0.0</td>\n",
       "      <td>Albany</td>\n",
       "      <td>conventional</td>\n",
       "      <td>2015</td>\n",
       "    </tr>\n",
       "    <tr>\n",
       "      <th>1</th>\n",
       "      <td>674.28</td>\n",
       "      <td>44638.81</td>\n",
       "      <td>58.33</td>\n",
       "      <td>1.35</td>\n",
       "      <td>2015-12-20</td>\n",
       "      <td>97.49</td>\n",
       "      <td>9408.07</td>\n",
       "      <td>9505.56</td>\n",
       "      <td>54876.98</td>\n",
       "      <td>1</td>\n",
       "      <td>0.0</td>\n",
       "      <td>Albany</td>\n",
       "      <td>conventional</td>\n",
       "      <td>2015</td>\n",
       "    </tr>\n",
       "    <tr>\n",
       "      <th>2</th>\n",
       "      <td>794.70</td>\n",
       "      <td>109149.67</td>\n",
       "      <td>130.50</td>\n",
       "      <td>0.93</td>\n",
       "      <td>2015-12-13</td>\n",
       "      <td>103.14</td>\n",
       "      <td>8042.21</td>\n",
       "      <td>8145.35</td>\n",
       "      <td>118220.22</td>\n",
       "      <td>2</td>\n",
       "      <td>0.0</td>\n",
       "      <td>Albany</td>\n",
       "      <td>conventional</td>\n",
       "      <td>2015</td>\n",
       "    </tr>\n",
       "    <tr>\n",
       "      <th>3</th>\n",
       "      <td>1132.00</td>\n",
       "      <td>71976.41</td>\n",
       "      <td>72.58</td>\n",
       "      <td>1.08</td>\n",
       "      <td>2015-12-06</td>\n",
       "      <td>133.76</td>\n",
       "      <td>5677.40</td>\n",
       "      <td>5811.16</td>\n",
       "      <td>78992.15</td>\n",
       "      <td>3</td>\n",
       "      <td>0.0</td>\n",
       "      <td>Albany</td>\n",
       "      <td>conventional</td>\n",
       "      <td>2015</td>\n",
       "    </tr>\n",
       "    <tr>\n",
       "      <th>4</th>\n",
       "      <td>941.48</td>\n",
       "      <td>43838.39</td>\n",
       "      <td>75.78</td>\n",
       "      <td>1.28</td>\n",
       "      <td>2015-11-29</td>\n",
       "      <td>197.69</td>\n",
       "      <td>5986.26</td>\n",
       "      <td>6183.95</td>\n",
       "      <td>51039.60</td>\n",
       "      <td>4</td>\n",
       "      <td>0.0</td>\n",
       "      <td>Albany</td>\n",
       "      <td>conventional</td>\n",
       "      <td>2015</td>\n",
       "    </tr>\n",
       "    <tr>\n",
       "      <th>...</th>\n",
       "      <td>...</td>\n",
       "      <td>...</td>\n",
       "      <td>...</td>\n",
       "      <td>...</td>\n",
       "      <td>...</td>\n",
       "      <td>...</td>\n",
       "      <td>...</td>\n",
       "      <td>...</td>\n",
       "      <td>...</td>\n",
       "      <td>...</td>\n",
       "      <td>...</td>\n",
       "      <td>...</td>\n",
       "      <td>...</td>\n",
       "      <td>...</td>\n",
       "    </tr>\n",
       "    <tr>\n",
       "      <th>18244</th>\n",
       "      <td>2046.96</td>\n",
       "      <td>1529.20</td>\n",
       "      <td>0.00</td>\n",
       "      <td>1.63</td>\n",
       "      <td>2018-02-04</td>\n",
       "      <td>431.85</td>\n",
       "      <td>13066.82</td>\n",
       "      <td>13498.67</td>\n",
       "      <td>17074.83</td>\n",
       "      <td>7</td>\n",
       "      <td>0.0</td>\n",
       "      <td>WestTexNewMexico</td>\n",
       "      <td>organic</td>\n",
       "      <td>2018</td>\n",
       "    </tr>\n",
       "    <tr>\n",
       "      <th>18245</th>\n",
       "      <td>1191.70</td>\n",
       "      <td>3431.50</td>\n",
       "      <td>0.00</td>\n",
       "      <td>1.71</td>\n",
       "      <td>2018-01-28</td>\n",
       "      <td>324.80</td>\n",
       "      <td>8940.04</td>\n",
       "      <td>9264.84</td>\n",
       "      <td>13888.04</td>\n",
       "      <td>8</td>\n",
       "      <td>0.0</td>\n",
       "      <td>WestTexNewMexico</td>\n",
       "      <td>organic</td>\n",
       "      <td>2018</td>\n",
       "    </tr>\n",
       "    <tr>\n",
       "      <th>18246</th>\n",
       "      <td>1191.92</td>\n",
       "      <td>2452.79</td>\n",
       "      <td>727.94</td>\n",
       "      <td>1.87</td>\n",
       "      <td>2018-01-21</td>\n",
       "      <td>42.31</td>\n",
       "      <td>9351.80</td>\n",
       "      <td>9394.11</td>\n",
       "      <td>13766.76</td>\n",
       "      <td>9</td>\n",
       "      <td>0.0</td>\n",
       "      <td>WestTexNewMexico</td>\n",
       "      <td>organic</td>\n",
       "      <td>2018</td>\n",
       "    </tr>\n",
       "    <tr>\n",
       "      <th>18247</th>\n",
       "      <td>1527.63</td>\n",
       "      <td>2981.04</td>\n",
       "      <td>727.01</td>\n",
       "      <td>1.93</td>\n",
       "      <td>2018-01-14</td>\n",
       "      <td>50.00</td>\n",
       "      <td>10919.54</td>\n",
       "      <td>10969.54</td>\n",
       "      <td>16205.22</td>\n",
       "      <td>10</td>\n",
       "      <td>0.0</td>\n",
       "      <td>WestTexNewMexico</td>\n",
       "      <td>organic</td>\n",
       "      <td>2018</td>\n",
       "    </tr>\n",
       "    <tr>\n",
       "      <th>18248</th>\n",
       "      <td>2894.77</td>\n",
       "      <td>2356.13</td>\n",
       "      <td>224.53</td>\n",
       "      <td>1.62</td>\n",
       "      <td>2018-01-07</td>\n",
       "      <td>26.01</td>\n",
       "      <td>11988.14</td>\n",
       "      <td>12014.15</td>\n",
       "      <td>17489.58</td>\n",
       "      <td>11</td>\n",
       "      <td>0.0</td>\n",
       "      <td>WestTexNewMexico</td>\n",
       "      <td>organic</td>\n",
       "      <td>2018</td>\n",
       "    </tr>\n",
       "  </tbody>\n",
       "</table>\n",
       "<p>18249 rows × 14 columns</p>\n",
       "</div>"
      ],
      "text/plain": [
       "          4046       4225    4770  AveragePrice        Date  Large Bags  \\\n",
       "0      1036.74   54454.85   48.16          1.33  2015-12-27       93.25   \n",
       "1       674.28   44638.81   58.33          1.35  2015-12-20       97.49   \n",
       "2       794.70  109149.67  130.50          0.93  2015-12-13      103.14   \n",
       "3      1132.00   71976.41   72.58          1.08  2015-12-06      133.76   \n",
       "4       941.48   43838.39   75.78          1.28  2015-11-29      197.69   \n",
       "...        ...        ...     ...           ...         ...         ...   \n",
       "18244  2046.96    1529.20    0.00          1.63  2018-02-04      431.85   \n",
       "18245  1191.70    3431.50    0.00          1.71  2018-01-28      324.80   \n",
       "18246  1191.92    2452.79  727.94          1.87  2018-01-21       42.31   \n",
       "18247  1527.63    2981.04  727.01          1.93  2018-01-14       50.00   \n",
       "18248  2894.77    2356.13  224.53          1.62  2018-01-07       26.01   \n",
       "\n",
       "       Small Bags  Total Bags  Total Volume  Unnamed: 0  XLarge Bags  \\\n",
       "0         8603.62     8696.87      64236.62           0          0.0   \n",
       "1         9408.07     9505.56      54876.98           1          0.0   \n",
       "2         8042.21     8145.35     118220.22           2          0.0   \n",
       "3         5677.40     5811.16      78992.15           3          0.0   \n",
       "4         5986.26     6183.95      51039.60           4          0.0   \n",
       "...           ...         ...           ...         ...          ...   \n",
       "18244    13066.82    13498.67      17074.83           7          0.0   \n",
       "18245     8940.04     9264.84      13888.04           8          0.0   \n",
       "18246     9351.80     9394.11      13766.76           9          0.0   \n",
       "18247    10919.54    10969.54      16205.22          10          0.0   \n",
       "18248    11988.14    12014.15      17489.58          11          0.0   \n",
       "\n",
       "                 region          type  year  \n",
       "0                Albany  conventional  2015  \n",
       "1                Albany  conventional  2015  \n",
       "2                Albany  conventional  2015  \n",
       "3                Albany  conventional  2015  \n",
       "4                Albany  conventional  2015  \n",
       "...                 ...           ...   ...  \n",
       "18244  WestTexNewMexico       organic  2018  \n",
       "18245  WestTexNewMexico       organic  2018  \n",
       "18246  WestTexNewMexico       organic  2018  \n",
       "18247  WestTexNewMexico       organic  2018  \n",
       "18248  WestTexNewMexico       organic  2018  \n",
       "\n",
       "[18249 rows x 14 columns]"
      ]
     },
     "execution_count": 9,
     "metadata": {},
     "output_type": "execute_result"
    }
   ],
   "source": [
    "df.sort_index(axis = 1,ascending = True)"
   ]
  },
  {
   "cell_type": "code",
   "execution_count": 10,
   "id": "4aae681b",
   "metadata": {},
   "outputs": [
    {
     "data": {
      "text/html": [
       "<div>\n",
       "<style scoped>\n",
       "    .dataframe tbody tr th:only-of-type {\n",
       "        vertical-align: middle;\n",
       "    }\n",
       "\n",
       "    .dataframe tbody tr th {\n",
       "        vertical-align: top;\n",
       "    }\n",
       "\n",
       "    .dataframe thead th {\n",
       "        text-align: right;\n",
       "    }\n",
       "</style>\n",
       "<table border=\"1\" class=\"dataframe\">\n",
       "  <thead>\n",
       "    <tr style=\"text-align: right;\">\n",
       "      <th></th>\n",
       "      <th>count</th>\n",
       "      <th>unique</th>\n",
       "      <th>top</th>\n",
       "      <th>freq</th>\n",
       "    </tr>\n",
       "  </thead>\n",
       "  <tbody>\n",
       "    <tr>\n",
       "      <th>Date</th>\n",
       "      <td>18249</td>\n",
       "      <td>169</td>\n",
       "      <td>2015-12-27</td>\n",
       "      <td>108</td>\n",
       "    </tr>\n",
       "    <tr>\n",
       "      <th>type</th>\n",
       "      <td>18249</td>\n",
       "      <td>2</td>\n",
       "      <td>conventional</td>\n",
       "      <td>9126</td>\n",
       "    </tr>\n",
       "    <tr>\n",
       "      <th>region</th>\n",
       "      <td>18249</td>\n",
       "      <td>54</td>\n",
       "      <td>Albany</td>\n",
       "      <td>338</td>\n",
       "    </tr>\n",
       "  </tbody>\n",
       "</table>\n",
       "</div>"
      ],
      "text/plain": [
       "        count unique           top  freq\n",
       "Date    18249    169    2015-12-27   108\n",
       "type    18249      2  conventional  9126\n",
       "region  18249     54        Albany   338"
      ]
     },
     "execution_count": 10,
     "metadata": {},
     "output_type": "execute_result"
    }
   ],
   "source": [
    "#Describir con Numpy\n",
    "df.describe(include=object).transpose()\n"
   ]
  },
  {
   "cell_type": "code",
   "execution_count": 11,
   "id": "53b7b6ca",
   "metadata": {},
   "outputs": [
    {
     "data": {
      "text/plain": [
       "Unnamed: 0      18249\n",
       "Date            18249\n",
       "AveragePrice    18249\n",
       "Total Volume    18249\n",
       "4046            18249\n",
       "4225            18249\n",
       "4770            18249\n",
       "Total Bags      18249\n",
       "Small Bags      18249\n",
       "Large Bags      18249\n",
       "XLarge Bags     18249\n",
       "type            18249\n",
       "year            18249\n",
       "region          18249\n",
       "dtype: int64"
      ]
     },
     "execution_count": 11,
     "metadata": {},
     "output_type": "execute_result"
    }
   ],
   "source": [
    "#Contar los objetos\n",
    "df.count()\n"
   ]
  },
  {
   "cell_type": "code",
   "execution_count": 12,
   "id": "618e7809",
   "metadata": {},
   "outputs": [
    {
     "data": {
      "text/html": [
       "<div>\n",
       "<style scoped>\n",
       "    .dataframe tbody tr th:only-of-type {\n",
       "        vertical-align: middle;\n",
       "    }\n",
       "\n",
       "    .dataframe tbody tr th {\n",
       "        vertical-align: top;\n",
       "    }\n",
       "\n",
       "    .dataframe thead th {\n",
       "        text-align: right;\n",
       "    }\n",
       "</style>\n",
       "<table border=\"1\" class=\"dataframe\">\n",
       "  <thead>\n",
       "    <tr style=\"text-align: right;\">\n",
       "      <th></th>\n",
       "      <th>Unnamed: 0</th>\n",
       "      <th>Date</th>\n",
       "      <th>AveragePrice</th>\n",
       "      <th>Total Volume</th>\n",
       "      <th>4046</th>\n",
       "      <th>4225</th>\n",
       "      <th>4770</th>\n",
       "      <th>Total Bags</th>\n",
       "      <th>Small Bags</th>\n",
       "      <th>Large Bags</th>\n",
       "      <th>XLarge Bags</th>\n",
       "      <th>type</th>\n",
       "      <th>year</th>\n",
       "      <th>region</th>\n",
       "    </tr>\n",
       "  </thead>\n",
       "  <tbody>\n",
       "    <tr>\n",
       "      <th>11594</th>\n",
       "      <td>24</td>\n",
       "      <td>2015-07-12</td>\n",
       "      <td>2.07</td>\n",
       "      <td>2786.45</td>\n",
       "      <td>680.60</td>\n",
       "      <td>2105.85</td>\n",
       "      <td>0.00</td>\n",
       "      <td>0.00</td>\n",
       "      <td>0.00</td>\n",
       "      <td>0.00</td>\n",
       "      <td>0.00</td>\n",
       "      <td>organic</td>\n",
       "      <td>2015</td>\n",
       "      <td>Spokane</td>\n",
       "    </tr>\n",
       "    <tr>\n",
       "      <th>11321</th>\n",
       "      <td>11</td>\n",
       "      <td>2015-10-11</td>\n",
       "      <td>2.66</td>\n",
       "      <td>14031.73</td>\n",
       "      <td>1046.84</td>\n",
       "      <td>12984.89</td>\n",
       "      <td>0.00</td>\n",
       "      <td>0.00</td>\n",
       "      <td>0.00</td>\n",
       "      <td>0.00</td>\n",
       "      <td>0.00</td>\n",
       "      <td>organic</td>\n",
       "      <td>2015</td>\n",
       "      <td>SanFrancisco</td>\n",
       "    </tr>\n",
       "    <tr>\n",
       "      <th>11320</th>\n",
       "      <td>10</td>\n",
       "      <td>2015-10-18</td>\n",
       "      <td>2.79</td>\n",
       "      <td>12642.11</td>\n",
       "      <td>961.55</td>\n",
       "      <td>11680.56</td>\n",
       "      <td>0.00</td>\n",
       "      <td>0.00</td>\n",
       "      <td>0.00</td>\n",
       "      <td>0.00</td>\n",
       "      <td>0.00</td>\n",
       "      <td>organic</td>\n",
       "      <td>2015</td>\n",
       "      <td>SanFrancisco</td>\n",
       "    </tr>\n",
       "    <tr>\n",
       "      <th>11595</th>\n",
       "      <td>25</td>\n",
       "      <td>2015-07-05</td>\n",
       "      <td>1.85</td>\n",
       "      <td>3162.45</td>\n",
       "      <td>799.67</td>\n",
       "      <td>2362.78</td>\n",
       "      <td>0.00</td>\n",
       "      <td>0.00</td>\n",
       "      <td>0.00</td>\n",
       "      <td>0.00</td>\n",
       "      <td>0.00</td>\n",
       "      <td>organic</td>\n",
       "      <td>2015</td>\n",
       "      <td>Spokane</td>\n",
       "    </tr>\n",
       "    <tr>\n",
       "      <th>11024</th>\n",
       "      <td>26</td>\n",
       "      <td>2015-06-28</td>\n",
       "      <td>1.53</td>\n",
       "      <td>41116.32</td>\n",
       "      <td>7314.21</td>\n",
       "      <td>33780.38</td>\n",
       "      <td>21.73</td>\n",
       "      <td>0.00</td>\n",
       "      <td>0.00</td>\n",
       "      <td>0.00</td>\n",
       "      <td>0.00</td>\n",
       "      <td>organic</td>\n",
       "      <td>2015</td>\n",
       "      <td>Portland</td>\n",
       "    </tr>\n",
       "    <tr>\n",
       "      <th>...</th>\n",
       "      <td>...</td>\n",
       "      <td>...</td>\n",
       "      <td>...</td>\n",
       "      <td>...</td>\n",
       "      <td>...</td>\n",
       "      <td>...</td>\n",
       "      <td>...</td>\n",
       "      <td>...</td>\n",
       "      <td>...</td>\n",
       "      <td>...</td>\n",
       "      <td>...</td>\n",
       "      <td>...</td>\n",
       "      <td>...</td>\n",
       "      <td>...</td>\n",
       "    </tr>\n",
       "    <tr>\n",
       "      <th>8353</th>\n",
       "      <td>34</td>\n",
       "      <td>2017-05-07</td>\n",
       "      <td>1.09</td>\n",
       "      <td>47293921.60</td>\n",
       "      <td>17076650.82</td>\n",
       "      <td>13549102.59</td>\n",
       "      <td>863471.88</td>\n",
       "      <td>15804696.31</td>\n",
       "      <td>11228049.63</td>\n",
       "      <td>4324231.19</td>\n",
       "      <td>252415.49</td>\n",
       "      <td>conventional</td>\n",
       "      <td>2017</td>\n",
       "      <td>TotalUS</td>\n",
       "    </tr>\n",
       "    <tr>\n",
       "      <th>9091</th>\n",
       "      <td>1</td>\n",
       "      <td>2018-03-18</td>\n",
       "      <td>1.05</td>\n",
       "      <td>41386314.12</td>\n",
       "      <td>13707389.51</td>\n",
       "      <td>11061051.69</td>\n",
       "      <td>645380.85</td>\n",
       "      <td>15972492.07</td>\n",
       "      <td>11712807.19</td>\n",
       "      <td>3988101.74</td>\n",
       "      <td>271583.14</td>\n",
       "      <td>conventional</td>\n",
       "      <td>2018</td>\n",
       "      <td>TotalUS</td>\n",
       "    </tr>\n",
       "    <tr>\n",
       "      <th>8366</th>\n",
       "      <td>47</td>\n",
       "      <td>2017-02-05</td>\n",
       "      <td>0.77</td>\n",
       "      <td>61034457.10</td>\n",
       "      <td>22743616.17</td>\n",
       "      <td>20328161.55</td>\n",
       "      <td>1664383.09</td>\n",
       "      <td>16298296.29</td>\n",
       "      <td>12567155.58</td>\n",
       "      <td>3618270.75</td>\n",
       "      <td>112869.96</td>\n",
       "      <td>conventional</td>\n",
       "      <td>2017</td>\n",
       "      <td>TotalUS</td>\n",
       "    </tr>\n",
       "    <tr>\n",
       "      <th>9090</th>\n",
       "      <td>0</td>\n",
       "      <td>2018-03-25</td>\n",
       "      <td>1.03</td>\n",
       "      <td>43409835.75</td>\n",
       "      <td>14130799.10</td>\n",
       "      <td>12125711.42</td>\n",
       "      <td>758801.12</td>\n",
       "      <td>16394524.11</td>\n",
       "      <td>12540327.19</td>\n",
       "      <td>3544729.39</td>\n",
       "      <td>309467.53</td>\n",
       "      <td>conventional</td>\n",
       "      <td>2018</td>\n",
       "      <td>TotalUS</td>\n",
       "    </tr>\n",
       "    <tr>\n",
       "      <th>9097</th>\n",
       "      <td>7</td>\n",
       "      <td>2018-02-04</td>\n",
       "      <td>0.87</td>\n",
       "      <td>62505646.52</td>\n",
       "      <td>21620180.90</td>\n",
       "      <td>20445501.03</td>\n",
       "      <td>1066830.22</td>\n",
       "      <td>19373134.37</td>\n",
       "      <td>13384586.80</td>\n",
       "      <td>5719096.61</td>\n",
       "      <td>269450.96</td>\n",
       "      <td>conventional</td>\n",
       "      <td>2018</td>\n",
       "      <td>TotalUS</td>\n",
       "    </tr>\n",
       "  </tbody>\n",
       "</table>\n",
       "<p>18249 rows × 14 columns</p>\n",
       "</div>"
      ],
      "text/plain": [
       "       Unnamed: 0        Date  AveragePrice  Total Volume         4046  \\\n",
       "11594          24  2015-07-12          2.07       2786.45       680.60   \n",
       "11321          11  2015-10-11          2.66      14031.73      1046.84   \n",
       "11320          10  2015-10-18          2.79      12642.11       961.55   \n",
       "11595          25  2015-07-05          1.85       3162.45       799.67   \n",
       "11024          26  2015-06-28          1.53      41116.32      7314.21   \n",
       "...           ...         ...           ...           ...          ...   \n",
       "8353           34  2017-05-07          1.09   47293921.60  17076650.82   \n",
       "9091            1  2018-03-18          1.05   41386314.12  13707389.51   \n",
       "8366           47  2017-02-05          0.77   61034457.10  22743616.17   \n",
       "9090            0  2018-03-25          1.03   43409835.75  14130799.10   \n",
       "9097            7  2018-02-04          0.87   62505646.52  21620180.90   \n",
       "\n",
       "              4225        4770   Total Bags   Small Bags  Large Bags  \\\n",
       "11594      2105.85        0.00         0.00         0.00        0.00   \n",
       "11321     12984.89        0.00         0.00         0.00        0.00   \n",
       "11320     11680.56        0.00         0.00         0.00        0.00   \n",
       "11595      2362.78        0.00         0.00         0.00        0.00   \n",
       "11024     33780.38       21.73         0.00         0.00        0.00   \n",
       "...            ...         ...          ...          ...         ...   \n",
       "8353   13549102.59   863471.88  15804696.31  11228049.63  4324231.19   \n",
       "9091   11061051.69   645380.85  15972492.07  11712807.19  3988101.74   \n",
       "8366   20328161.55  1664383.09  16298296.29  12567155.58  3618270.75   \n",
       "9090   12125711.42   758801.12  16394524.11  12540327.19  3544729.39   \n",
       "9097   20445501.03  1066830.22  19373134.37  13384586.80  5719096.61   \n",
       "\n",
       "       XLarge Bags          type  year        region  \n",
       "11594         0.00       organic  2015       Spokane  \n",
       "11321         0.00       organic  2015  SanFrancisco  \n",
       "11320         0.00       organic  2015  SanFrancisco  \n",
       "11595         0.00       organic  2015       Spokane  \n",
       "11024         0.00       organic  2015      Portland  \n",
       "...            ...           ...   ...           ...  \n",
       "8353     252415.49  conventional  2017       TotalUS  \n",
       "9091     271583.14  conventional  2018       TotalUS  \n",
       "8366     112869.96  conventional  2017       TotalUS  \n",
       "9090     309467.53  conventional  2018       TotalUS  \n",
       "9097     269450.96  conventional  2018       TotalUS  \n",
       "\n",
       "[18249 rows x 14 columns]"
      ]
     },
     "execution_count": 12,
     "metadata": {},
     "output_type": "execute_result"
    }
   ],
   "source": [
    "#Ordenar por variables\n",
    "df.sort_values(by=\"Total Bags\")"
   ]
  },
  {
   "cell_type": "code",
   "execution_count": 13,
   "id": "66df0aef",
   "metadata": {},
   "outputs": [
    {
     "data": {
      "text/plain": [
       "Unnamed: 0        int64\n",
       "Date             object\n",
       "AveragePrice    float64\n",
       "Total Volume    float64\n",
       "4046            float64\n",
       "4225            float64\n",
       "4770            float64\n",
       "Total Bags      float64\n",
       "Small Bags      float64\n",
       "Large Bags      float64\n",
       "XLarge Bags     float64\n",
       "type             object\n",
       "year              int64\n",
       "region           object\n",
       "dtype: object"
      ]
     },
     "execution_count": 13,
     "metadata": {},
     "output_type": "execute_result"
    }
   ],
   "source": [
    "df.dtypes"
   ]
  },
  {
   "cell_type": "code",
   "execution_count": 14,
   "id": "f07c1ec1",
   "metadata": {},
   "outputs": [
    {
     "data": {
      "text/plain": [
       "count    1.824900e+04\n",
       "mean     2.396392e+05\n",
       "std      9.862424e+05\n",
       "min      0.000000e+00\n",
       "25%      5.088640e+03\n",
       "50%      3.974383e+04\n",
       "75%      1.107834e+05\n",
       "max      1.937313e+07\n",
       "Name: Total Bags, dtype: float64"
      ]
     },
     "execution_count": 14,
     "metadata": {},
     "output_type": "execute_result"
    }
   ],
   "source": [
    "df['Total Bags'].describe()"
   ]
  },
  {
   "cell_type": "code",
   "execution_count": 15,
   "id": "6cd78760",
   "metadata": {},
   "outputs": [
    {
     "data": {
      "text/plain": [
       "count    1.824900e+04\n",
       "mean     1.821947e+05\n",
       "std      7.461785e+05\n",
       "min      0.000000e+00\n",
       "25%      2.849420e+03\n",
       "50%      2.636282e+04\n",
       "75%      8.333767e+04\n",
       "max      1.338459e+07\n",
       "Name: Small Bags, dtype: float64"
      ]
     },
     "execution_count": 15,
     "metadata": {},
     "output_type": "execute_result"
    }
   ],
   "source": [
    "df['Small Bags'].describe()"
   ]
  },
  {
   "cell_type": "code",
   "execution_count": 16,
   "id": "68024673",
   "metadata": {},
   "outputs": [
    {
     "data": {
      "text/plain": [
       "count    1.824900e+04\n",
       "mean     5.433809e+04\n",
       "std      2.439660e+05\n",
       "min      0.000000e+00\n",
       "25%      1.274700e+02\n",
       "50%      2.647710e+03\n",
       "75%      2.202925e+04\n",
       "max      5.719097e+06\n",
       "Name: Large Bags, dtype: float64"
      ]
     },
     "execution_count": 16,
     "metadata": {},
     "output_type": "execute_result"
    }
   ],
   "source": [
    "df['Large Bags'].describe()"
   ]
  },
  {
   "cell_type": "code",
   "execution_count": 17,
   "id": "ba6fdb4c",
   "metadata": {},
   "outputs": [
    {
     "data": {
      "text/plain": [
       "count     18249.000000\n",
       "mean       3106.426507\n",
       "std       17692.894652\n",
       "min           0.000000\n",
       "25%           0.000000\n",
       "50%           0.000000\n",
       "75%         132.500000\n",
       "max      551693.650000\n",
       "Name: XLarge Bags, dtype: float64"
      ]
     },
     "execution_count": 17,
     "metadata": {},
     "output_type": "execute_result"
    }
   ],
   "source": [
    "df['XLarge Bags'].describe()"
   ]
  },
  {
   "cell_type": "code",
   "execution_count": 18,
   "id": "67661cf9",
   "metadata": {},
   "outputs": [
    {
     "data": {
      "image/png": "[encoded data removed]",
      "text/plain": [
       "<Figure size 1000x700 with 1 Axes>"
      ]
     },
     "metadata": {},
     "output_type": "display_data"
    },
    {
     "data": {
      "text/plain": [
       "<pandas.core.groupby.generic.DataFrameGroupBy object at 0x00000290A8EB7B20>"
      ]
     },
     "execution_count": 18,
     "metadata": {},
     "output_type": "execute_result"
    }
   ],
   "source": [
    "col1 = df['Small Bags']\n",
    "col2 = df['Large Bags']\n",
    "col3 = df['XLarge Bags']\n",
    "bagsData = [col1,col2,col3]\n",
    "fig = plt.figure(figsize=(10,7))\n",
    "ax = fig.add_axes([0,0,1,1])\n",
    "bp = ax.boxplot(bagsData)\n",
    "plt.show()\n",
    "\n",
    "df.groupby(['Small Bags'])\n"
   ]
  },
  {
   "cell_type": "code",
   "execution_count": 19,
   "id": "904c57d2",
   "metadata": {},
   "outputs": [
    {
     "data": {
      "text/plain": [
       "count    1.824900e+04\n",
       "mean     2.930084e+05\n",
       "std      1.264989e+06\n",
       "min      0.000000e+00\n",
       "25%      8.540700e+02\n",
       "50%      8.645300e+03\n",
       "75%      1.110202e+05\n",
       "max      2.274362e+07\n",
       "Name: 4046, dtype: float64"
      ]
     },
     "execution_count": 19,
     "metadata": {},
     "output_type": "execute_result"
    }
   ],
   "source": [
    "df['4046'].describe()"
   ]
  },
  {
   "cell_type": "code",
   "execution_count": 20,
   "id": "66e4e966",
   "metadata": {},
   "outputs": [
    {
     "data": {
      "text/plain": [
       "count    1.824900e+04\n",
       "mean     2.951546e+05\n",
       "std      1.204120e+06\n",
       "min      0.000000e+00\n",
       "25%      3.008780e+03\n",
       "50%      2.906102e+04\n",
       "75%      1.502069e+05\n",
       "max      2.047057e+07\n",
       "Name: 4225, dtype: float64"
      ]
     },
     "execution_count": 20,
     "metadata": {},
     "output_type": "execute_result"
    }
   ],
   "source": [
    "df['4225'].describe()"
   ]
  },
  {
   "cell_type": "code",
   "execution_count": 21,
   "id": "eef01e2a",
   "metadata": {},
   "outputs": [
    {
     "data": {
      "text/plain": [
       "count    1.824900e+04\n",
       "mean     2.283974e+04\n",
       "std      1.074641e+05\n",
       "min      0.000000e+00\n",
       "25%      0.000000e+00\n",
       "50%      1.849900e+02\n",
       "75%      6.243420e+03\n",
       "max      2.546439e+06\n",
       "Name: 4770, dtype: float64"
      ]
     },
     "execution_count": 21,
     "metadata": {},
     "output_type": "execute_result"
    }
   ],
   "source": [
    "df['4770'].describe()"
   ]
  },
  {
   "cell_type": "code",
   "execution_count": 22,
   "id": "75a362ec",
   "metadata": {},
   "outputs": [
    {
     "data": {
      "image/png": "[encoded data removed]",
      "text/plain": [
       "<Figure size 1000x700 with 1 Axes>"
      ]
     },
     "metadata": {},
     "output_type": "display_data"
    }
   ],
   "source": [
    "col4 = df['4046']\n",
    "col5 = df['4225']\n",
    "col6 = df['4770']\n",
    "myData = [col4,col5,col6]\n",
    "fig = plt.figure(figsize=(10,7))\n",
    "ax = fig.add_axes([0,0,1,1])\n",
    "bp = ax.boxplot(myData)\n",
    "plt.show()\n"
   ]
  },
  {
   "cell_type": "code",
   "execution_count": 24,
   "id": "844d3111",
   "metadata": {},
   "outputs": [
    {
     "name": "stdout",
     "output_type": "stream",
     "text": [
      "            Small Bags  Large Bags\n",
      "Small Bags    1.000000    0.902589\n",
      "Large Bags    0.902589    1.000000\n",
      "             Small Bags  XLarge Bags\n",
      "Small Bags     1.000000     0.806845\n",
      "XLarge Bags    0.806845     1.000000\n",
      "             Large Bags  XLarge Bags\n",
      "Large Bags     1.000000     0.710858\n",
      "XLarge Bags    0.710858     1.000000\n"
     ]
    },
    {
     "data": {
      "text/plain": [
       "<Axes: >"
      ]
     },
     "execution_count": 24,
     "metadata": {},
     "output_type": "execute_result"
    },
    {
     "data": {
      "image/png": "[encoded data removed]",
      "text/plain": [
       "<Figure size 640x480 with 2 Axes>"
      ]
     },
     "metadata": {},
     "output_type": "display_data"
    },
    {
     "data": {
      "image/png": "[encoded data removed]",
      "text/plain": [
       "<Figure size 640x480 with 2 Axes>"
      ]
     },
     "metadata": {},
     "output_type": "display_data"
    },
    {
     "data": {
      "image/png": "[encoded data removed]",
      "text/plain": [
       "<Figure size 640x480 with 2 Axes>"
      ]
     },
     "metadata": {},
     "output_type": "display_data"
    }
   ],
   "source": [
    "bdf1 = {\n",
    "    \"Small Bags\": col1,\n",
    "    \"Large Bags\": col2,\n",
    "}\n",
    "bdf2 = {\n",
    "    \"Small Bags\": col1,\n",
    "    \"XLarge Bags\": col3,\n",
    "}\n",
    "bdf3 = {\n",
    "    \"Large Bags\": col2,\n",
    "    \"XLarge Bags\": col3,\n",
    "}\n",
    "bdata1 = pd.DataFrame(bdf1)\n",
    "bdata2 = pd.DataFrame(bdf2)\n",
    "bdata3 = pd.DataFrame(bdf3)\n",
    "#Coeficiente de correlación\n",
    "print(bdata1.corr())\n",
    "plt.figure()\n",
    "sns.heatmap(bdata1)\n",
    "print(bdata2.corr())\n",
    "plt.figure()\n",
    "sns.heatmap(bdata2)\n",
    "print(bdata3.corr())\n",
    "plt.figure()\n",
    "sns.heatmap(bdata3)"
   ]
  },
  {
   "cell_type": "code",
   "execution_count": 27,
   "id": "7f05f6de",
   "metadata": {},
   "outputs": [
    {
     "name": "stdout",
     "output_type": "stream",
     "text": [
      "               Small Bags  Large Bags  XLarge Bags      4046      4225  \\\n",
      "Small Bags       1.000000    0.902589     0.806845  0.925280  0.916031   \n",
      "Large Bags       0.902589    1.000000     0.710858  0.838645  0.810015   \n",
      "XLarge Bags      0.806845    0.710858     1.000000  0.699377  0.688809   \n",
      "4046             0.925280    0.838645     0.699377  1.000000  0.926110   \n",
      "4225             0.916031    0.810015     0.688809  0.926110  1.000000   \n",
      "4770             0.802733    0.698471     0.679861  0.833389  0.887855   \n",
      "Average Price   -0.174730   -0.172940    -0.117592 -0.208317 -0.172928   \n",
      "Total Volume     0.967238    0.880640     0.747157  0.977863  0.974181   \n",
      "\n",
      "                   4770  Average Price  Total Volume  \n",
      "Small Bags     0.802733      -0.174730      0.967238  \n",
      "Large Bags     0.698471      -0.172940      0.880640  \n",
      "XLarge Bags    0.679861      -0.117592      0.747157  \n",
      "4046           0.833389      -0.208317      0.977863  \n",
      "4225           0.887855      -0.172928      0.974181  \n",
      "4770           1.000000      -0.179446      0.872202  \n",
      "Average Price -0.179446       1.000000     -0.192752  \n",
      "Total Volume   0.872202      -0.192752      1.000000  \n"
     ]
    }
   ],
   "source": [
    "bndf = {\n",
    "    \"Small Bags\": col1,\n",
    "    \"Large Bags\": col2,\n",
    "    \"XLarge Bags\": col3,\n",
    "    \"4046\": col4,\n",
    "    \"4225\": col5,\n",
    "    \"4770\": col6,\n",
    "    \"Average Price\": df['AveragePrice'],\n",
    "    \"Total Volume\": df['Total Volume']\n",
    "}\n",
    "\n",
    "cdata = pd.DataFrame(bndf)\n",
    "print(cdata.corr())"
   ]
  },
  {
   "cell_type": "markdown",
   "id": "c6b0f636",
   "metadata": {},
   "source": [
    "En los diagramas de cajas con bigotes de las bolsas se puede observar que la mayoria de datos estan en el rango, mientras que los datos en el diagrama de cajas con bigotes del peso/tamaño de los aguacates estan ligeramente mas dispersos pero la mayoria de estos si estan en el rango. Esto se refleja en la desviación estandar de cada dato que nos indica que la mayoria tienden a estar agrupados.\n",
    "\n",
    "Si despues observamos la correlación entre los datos, se puede ver que tanto los datos del tamaños de las bolsas, como del tamaño/peso de los aguacates y el volumen total, tienen altos coeficientes de correlación entre si, la mayoria cercanos a 1. Esto nos dice que el tamaño de la bolsa puede dar información del tamaño/peso y volumen, o viceversa, es decir podemos conocer el valor de unos teniendo los otros. Y como estos datos no estan tan dispersos sera mas facil conocer los siguientes valores."
   ]
  }
 ],
 "metadata": {
  "kernelspec": {
   "display_name": "Python 3 (ipykernel)",
   "language": "python",
   "name": "python3"
  },
  "language_info": {
   "codemirror_mode": {
    "name": "ipython",
    "version": 3
   },
   "file_extension": ".py",
   "mimetype": "text/x-python",
   "name": "python",
   "nbconvert_exporter": "python",
   "pygments_lexer": "ipython3",
   "version": "3.9.13"
  }
 },
 "nbformat": 4,
 "nbformat_minor": 5
}
